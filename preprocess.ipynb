{
 "cells": [
  {
   "cell_type": "code",
   "execution_count": 1,
   "metadata": {},
   "outputs": [],
   "source": [
    "import json\n",
    "import re\n",
    "import datetime\n",
    "from collections import defaultdict\n",
    "import pickle\n",
    "from tqdm.notebook import tqdm"
   ]
  },
  {
   "cell_type": "code",
   "execution_count": 2,
   "metadata": {},
   "outputs": [],
   "source": [
    "def process_time(time_str):\n",
    "    time_lst = time_str.split()\n",
    "    time = f\"{time_lst[0]} {time_lst[1]} {time_lst[2]} {time_lst[-1]}\"\n",
    "    return datetime.datetime.strptime('Sat Aug 26 2017', '%a %b %d %Y')"
   ]
  },
  {
   "cell_type": "code",
   "execution_count": 3,
   "metadata": {},
   "outputs": [],
   "source": [
    "def process_user_info(book_id, rating, time, review):\n",
    "    return {\"book_id\":book_id, \"rating\": rating, \"time\": time, \"review\": review}"
   ]
  },
  {
   "cell_type": "code",
   "execution_count": 4,
   "metadata": {},
   "outputs": [],
   "source": [
    "def process_book_info(user_id, rating, review):\n",
    "    return  {\"user_id\":user_id, \"rating\": rating, \"review\": review}"
   ]
  },
  {
   "cell_type": "code",
   "execution_count": 5,
   "metadata": {},
   "outputs": [
    {
     "name": "stderr",
     "output_type": "stream",
     "text": [
      "<ipython-input-5-86fb853cc38d>:6: TqdmDeprecationWarning: This function will be removed in tqdm==5.0.0\n",
      "Please use `tqdm.notebook.tqdm` instead of `tqdm.tqdm_notebook`\n",
      "  for idx, line in enumerate(tqdm(f)):\n"
     ]
    },
    {
     "data": {
      "application/vnd.jupyter.widget-view+json": {
       "model_id": "902837dec82047b78f80f2d30180249f",
       "version_major": 2,
       "version_minor": 0
      },
      "text/plain": [
       "HBox(children=(FloatProgress(value=1.0, bar_style='info', max=1.0), HTML(value='')))"
      ]
     },
     "metadata": {},
     "output_type": "display_data"
    },
    {
     "name": "stdout",
     "output_type": "stream",
     "text": [
      "\n"
     ]
    }
   ],
   "source": [
    "user_lst = set()\n",
    "book_lst = set()\n",
    "user_info = defaultdict(list)\n",
    "book_info = defaultdict(list)\n",
    "with open(\"./goodreads_reviews_spoiler_raw.json\", \"r\") as f:\n",
    "    for idx, line in enumerate(tqdm(f)):\n",
    "        d = json.loads(line)\n",
    "        user_id = d['user_id']\n",
    "        book_id = d['book_id']\n",
    "        time = process_time(d['date_updated'])\n",
    "        rating = d['rating']\n",
    "        review = re.sub(\"\\(view spoiler\\)\\[|\\(hide spoiler\\)\\]| \\n\", \"\", d['review_text'])\n",
    "        user_lst.add(user_id)\n",
    "        book_lst.add(book_id)\n",
    "        user_info[user_id].append(process_user_info(book_id, rating, time, review))\n",
    "        book_info[book_id].append(process_book_info(user_id, rating, review))        "
   ]
  },
  {
   "cell_type": "code",
   "execution_count": 6,
   "metadata": {},
   "outputs": [],
   "source": [
    "with open(\"user_lst.pkl\", \"wb\") as f:\n",
    "    pickle.dump(list(user_lst), f)\n",
    "with open(\"book_lst.pkl\", \"wb\") as f:\n",
    "    pickle.dump(list(book_lst), f)\n",
    "with open(\"user_info.pkl\", \"wb\") as f:\n",
    "    pickle.dump(user_info, f)\n",
    "with open(\"book_info.pkl\", \"wb\") as f:\n",
    "    pickle.dump(book_info, f)"
   ]
  }
 ],
 "metadata": {
  "kernelspec": {
   "display_name": "Python 3",
   "language": "python",
   "name": "python3"
  },
  "language_info": {
   "codemirror_mode": {
    "name": "ipython",
    "version": 3
   },
   "file_extension": ".py",
   "mimetype": "text/x-python",
   "name": "python",
   "nbconvert_exporter": "python",
   "pygments_lexer": "ipython3",
   "version": "3.8.1"
  }
 },
 "nbformat": 4,
 "nbformat_minor": 4
}
